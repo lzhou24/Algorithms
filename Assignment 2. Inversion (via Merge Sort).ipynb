{
 "cells": [
  {
   "cell_type": "code",
   "execution_count": 3,
   "metadata": {},
   "outputs": [
    {
     "name": "stdout",
     "output_type": "stream",
     "text": [
      "[1, 3, 5]\n",
      "3\n"
     ]
    }
   ],
   "source": [
    "def sort_and_count(arr):\n",
    "    \n",
    "    num_inversions = 0\n",
    "    \n",
    "    split = int(len(arr)/2)\n",
    "    arr_left = arr[:split]\n",
    "    arr_right = arr[split:]\n",
    "\n",
    "    if len(arr) <= 1:\n",
    "        return arr, 0\n",
    "    else:\n",
    "        arr_sorted_left, inv_left = sort_and_count(arr_left)\n",
    "        arr_sorted_right, inv_right = sort_and_count(arr_right)\n",
    "\n",
    "        #Merge array, count inversions\n",
    "        inv_split = 0\n",
    "        i = j = 0\n",
    "        merged_array = []\n",
    "        \n",
    "        while (i < len(arr_sorted_left)) or (j < len(arr_sorted_right)):\n",
    "            \n",
    "            if i == len(arr_sorted_left):\n",
    "                merged_array.append(arr_sorted_right[j])\n",
    "                j += 1\n",
    "            elif j == len(arr_sorted_right):\n",
    "                merged_array.append(arr_sorted_left[i])\n",
    "                i += 1\n",
    "                \n",
    "            elif arr_sorted_left[i] < arr_sorted_right[j]:\n",
    "                merged_array.append(arr_sorted_left[i])\n",
    "                i += 1\n",
    "            else:\n",
    "                merged_array.append(arr_sorted_right[j])\n",
    "                j += 1        \n",
    "                inv_split += (len(arr_sorted_left) - i)\n",
    "        \n",
    "        return merged_array, (inv_split + inv_left + inv_right)\n",
    "\n",
    "    \n",
    "arr = [5, 3, 1]\n",
    "arr_sorted, inversions = sort_and_count(arr)\n",
    "print(arr_sorted)\n",
    "print(inversions)"
   ]
  },
  {
   "cell_type": "code",
   "execution_count": 6,
   "metadata": {},
   "outputs": [
    {
     "data": {
      "text/plain": [
       "([1, 2, 3, 4, 5, 6], 3)"
      ]
     },
     "execution_count": 6,
     "metadata": {},
     "output_type": "execute_result"
    }
   ],
   "source": [
    "sort_and_count([1,3,5,2,4,6])"
   ]
  },
  {
   "cell_type": "code",
   "execution_count": null,
   "metadata": {},
   "outputs": [],
   "source": []
  }
 ],
 "metadata": {
  "kernelspec": {
   "display_name": "Python 3",
   "language": "python",
   "name": "python3"
  },
  "language_info": {
   "codemirror_mode": {
    "name": "ipython",
    "version": 3
   },
   "file_extension": ".py",
   "mimetype": "text/x-python",
   "name": "python",
   "nbconvert_exporter": "python",
   "pygments_lexer": "ipython3",
   "version": "3.7.6"
  }
 },
 "nbformat": 4,
 "nbformat_minor": 4
}
