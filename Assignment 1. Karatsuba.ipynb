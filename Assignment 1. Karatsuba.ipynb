{
 "cells": [
  {
   "cell_type": "code",
   "execution_count": 2,
   "metadata": {},
   "outputs": [
    {
     "data": {
      "text/plain": [
       "50840695.0"
      ]
     },
     "execution_count": 2,
     "metadata": {},
     "output_type": "execute_result"
    }
   ],
   "source": [
    "def karatsuba(i, j):\n",
    "\n",
    "    if i < 10 and j < 10:\n",
    "        #print(i, j)\n",
    "        return i*j\n",
    "\n",
    "    else:\n",
    "\n",
    "        #expand to the nearest even string\n",
    "        n = max(len(str(i)), len(str(j))) + max(len(str(i)), len(str(j))) % 2\n",
    "        i_str = str(i).rjust(n, '0')\n",
    "        j_str = str(j).rjust(n, '0')\n",
    "        \n",
    "        a = i_str[:int(n/2)]\n",
    "        b = i_str[int(n/2):]\n",
    "        c = j_str[:int(n/2)]\n",
    "        d = j_str[int(n/2):]\n",
    "        \n",
    "        ac = karatsuba(int(a), int(c))\n",
    "        bd = karatsuba(int(b), int(d))\n",
    "        ab_cd = karatsuba((int(a)+int(b)), (int(c)+int(d)))\n",
    "        \n",
    "        '''\n",
    "        product = 10**(n)*karatsuba(int(a), int(c)) + \\\n",
    "                  10**(n/2)*(karatsuba(int(a), int(d)) + karatsuba(int(b), int(c))) + \\\n",
    "                  karatsuba(int(b), int(d))\n",
    "        '''\n",
    "        \n",
    "        product = 10**(n)*ac + 10**(n/2)*(ab_cd - ac - bd) + bd\n",
    "        \n",
    "        #print(i_str, j_str, product)\n",
    "        #print('')\n",
    "\n",
    "        return product    \n",
    "\n",
    "karatsuba(5105, 9959)"
   ]
  },
  {
   "cell_type": "code",
   "execution_count": null,
   "metadata": {},
   "outputs": [],
   "source": []
  }
 ],
 "metadata": {
  "kernelspec": {
   "display_name": "Python 3",
   "language": "python",
   "name": "python3"
  },
  "language_info": {
   "codemirror_mode": {
    "name": "ipython",
    "version": 3
   },
   "file_extension": ".py",
   "mimetype": "text/x-python",
   "name": "python",
   "nbconvert_exporter": "python",
   "pygments_lexer": "ipython3",
   "version": "3.7.6"
  }
 },
 "nbformat": 4,
 "nbformat_minor": 4
}
