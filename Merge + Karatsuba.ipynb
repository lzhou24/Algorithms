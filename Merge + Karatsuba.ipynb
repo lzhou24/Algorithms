{
 "cells": [
  {
   "cell_type": "code",
   "execution_count": 204,
   "metadata": {},
   "outputs": [],
   "source": [
    "import time"
   ]
  },
  {
   "cell_type": "markdown",
   "metadata": {},
   "source": [
    "# Sum Numbers"
   ]
  },
  {
   "cell_type": "code",
   "execution_count": 15,
   "metadata": {},
   "outputs": [],
   "source": [
    "def numbers_sum(n):\n",
    "    if n == 1:\n",
    "        return 1\n",
    "    else:\n",
    "        return n + numbers_sum(n-1)\n",
    "numbers_sum(100)"
   ]
  },
  {
   "cell_type": "code",
   "execution_count": 16,
   "metadata": {},
   "outputs": [
    {
     "data": {
      "text/plain": [
       "1275"
      ]
     },
     "execution_count": 16,
     "metadata": {},
     "output_type": "execute_result"
    }
   ],
   "source": []
  },
  {
   "cell_type": "markdown",
   "metadata": {},
   "source": [
    "# Merge Sort"
   ]
  },
  {
   "cell_type": "code",
   "execution_count": 1,
   "metadata": {},
   "outputs": [
    {
     "data": {
      "text/plain": [
       "[2, 3, 4, 5, 10]"
      ]
     },
     "execution_count": 1,
     "metadata": {},
     "output_type": "execute_result"
    }
   ],
   "source": [
    "def merge_sort(arr):\n",
    "    \n",
    "    split = int(len(arr)/2)\n",
    "    left = arr[:split]\n",
    "    right = arr[split:]\n",
    "\n",
    "    if len(arr) == 1:\n",
    "        return arr\n",
    "    else:\n",
    "        arr_left = merge_sort(left)\n",
    "        arr_right = merge_sort(right)\n",
    "        merged_array = []\n",
    "        \n",
    "        #Merge\n",
    "        i = j = 0\n",
    "        while (i < len(arr_left)) or (j < len(arr_right)):\n",
    "            \n",
    "            if i == len(arr_left):\n",
    "                merged_array.append(arr_right[j])\n",
    "                j += 1\n",
    "            elif j == len(arr_right):\n",
    "                merged_array.append(arr_left[i])\n",
    "                i += 1\n",
    "                \n",
    "            elif arr_left[i] < arr_right[j]:\n",
    "                merged_array.append(arr_left[i])\n",
    "                i += 1\n",
    "            else:\n",
    "                merged_array.append(arr_right[j])\n",
    "                j += 1\n",
    "        \n",
    "        return merged_array\n",
    "arr = [5, 4, 10, 2, 3]\n",
    "merge_sort(arr)"
   ]
  },
  {
   "cell_type": "code",
   "execution_count": 3,
   "metadata": {},
   "outputs": [
    {
     "data": {
      "text/plain": [
       "[5]"
      ]
     },
     "execution_count": 3,
     "metadata": {},
     "output_type": "execute_result"
    }
   ],
   "source": []
  },
  {
   "cell_type": "code",
   "execution_count": 275,
   "metadata": {},
   "outputs": [
    {
     "name": "stdout",
     "output_type": "stream",
     "text": [
      "50840695.0\n",
      "0.0\n"
     ]
    }
   ],
   "source": [
    "def karatsuba(i, j):\n",
    "\n",
    "    if i < 10 and j < 10:\n",
    "        #print(i, j)\n",
    "        return i*j\n",
    "\n",
    "    else:\n",
    "\n",
    "        #expand to the nearest even string\n",
    "        n = max(len(str(i)), len(str(j))) + max(len(str(i)), len(str(j))) % 2\n",
    "        i_str = str(i).rjust(n, '0')\n",
    "        j_str = str(j).rjust(n, '0')\n",
    "        \n",
    "        a = i_str[:int(n/2)]\n",
    "        b = i_str[int(n/2):]\n",
    "        c = j_str[:int(n/2)]\n",
    "        d = j_str[int(n/2):]\n",
    "        \n",
    "        ac = karatsuba(int(a), int(c))\n",
    "        bd = karatsuba(int(b), int(d))\n",
    "        ab_cd = karatsuba((int(a)+int(b)), (int(c)+int(d)))\n",
    "        \n",
    "        '''\n",
    "        product = 10**(n)*karatsuba(int(a), int(c)) + \\\n",
    "                  10**(n/2)*(karatsuba(int(a), int(d)) + karatsuba(int(b), int(c))) + \\\n",
    "                  karatsuba(int(b), int(d))\n",
    "        '''\n",
    "        \n",
    "        product = 10**(n)*ac + 10**(n/2)*(ab_cd - ac - bd) + bd\n",
    "        \n",
    "        #print(i_str, j_str, product)\n",
    "        #print('')\n",
    "\n",
    "        return product    \n",
    "\n",
    "result = karatsuba(5105, \n",
    "                   9959)"
   ]
  },
  {
   "cell_type": "code",
   "execution_count": null,
   "metadata": {},
   "outputs": [],
   "source": []
  }
 ],
 "metadata": {
  "kernelspec": {
   "display_name": "Python 3",
   "language": "python",
   "name": "python3"
  },
  "language_info": {
   "codemirror_mode": {
    "name": "ipython",
    "version": 3
   },
   "file_extension": ".py",
   "mimetype": "text/x-python",
   "name": "python",
   "nbconvert_exporter": "python",
   "pygments_lexer": "ipython3",
   "version": "3.7.6"
  }
 },
 "nbformat": 4,
 "nbformat_minor": 4
}
